{
 "cells": [
  {
   "cell_type": "markdown",
   "id": "52201314-8367-46e7-b6df-0904de63af2b",
   "metadata": {},
   "source": [
    "# Data Science Tools and Ecosystem"
   ]
  },
  {
   "cell_type": "markdown",
   "id": "8ea63a28-88fa-45f5-8c8c-b59d6337a40e",
   "metadata": {
    "tags": []
   },
   "source": [
    "# In this notebook, Data Science Tools and Ecosystem are summarized."
   ]
  },
  {
   "cell_type": "markdown",
   "id": "3d61c590-aa61-4743-ab0f-cb5565a69f5f",
   "metadata": {},
   "source": [
    "## Author\n",
    "Michał Dyczkowski"
   ]
  },
  {
   "cell_type": "markdown",
   "id": "04c613dc-2306-49c0-86bf-b7ae24e0bfd5",
   "metadata": {},
   "source": [
    "1. Some of the popular languages that Data Scientists use are:\n",
    "    1. Python\n",
    "    2. R\n",
    "    3. SQL\n",
    "2. Some of the commonly used libraries used by Data Scientists include:\n",
    "    1. NumPy\n",
    "    2. Keras\n",
    "    3. Pandas"
   ]
  },
  {
   "cell_type": "markdown",
   "id": "216df45b-613f-4827-b198-4a81a3f7c2c5",
   "metadata": {},
   "source": [
    "Data Science Tools |\n",
    "-------------------|\n",
    "Apache Spark       |\n",
    "Tensor Flow        |\n",
    "Tableau            |"
   ]
  },
  {
   "cell_type": "markdown",
   "id": "f15e4cec-654e-4e4d-b22c-07328a82b181",
   "metadata": {},
   "source": [
    "### Below are a few examples of evaluating arithmetic expressions in Python"
   ]
  },
  {
   "cell_type": "code",
   "execution_count": 4,
   "id": "167aba9e-d908-4b5c-b817-7eb4669a5679",
   "metadata": {
    "tags": []
   },
   "outputs": [
    {
     "data": {
      "text/plain": [
       "17"
      ]
     },
     "execution_count": 4,
     "metadata": {},
     "output_type": "execute_result"
    }
   ],
   "source": [
    "#This a simple arithmetic expression to mutiply then add integers\n",
    "\n",
    "(3*4)+5"
   ]
  },
  {
   "cell_type": "code",
   "execution_count": 5,
   "id": "1cb2a747-da52-4698-8cd9-373d55c2d8fa",
   "metadata": {
    "tags": []
   },
   "outputs": [
    {
     "data": {
      "text/plain": [
       "3.3333333333333335"
      ]
     },
     "execution_count": 5,
     "metadata": {},
     "output_type": "execute_result"
    }
   ],
   "source": [
    "# This will convert 200 minutes to hours by diving by 60\n",
    "\n",
    "200/60"
   ]
  },
  {
   "cell_type": "code",
   "execution_count": null,
   "id": "7df8b315-5afc-44cf-bae6-9f3cc97fa935",
   "metadata": {},
   "outputs": [],
   "source": []
  }
 ],
 "metadata": {
  "kernelspec": {
   "display_name": "Python",
   "language": "python",
   "name": "conda-env-python-py"
  },
  "language_info": {
   "codemirror_mode": {
    "name": "ipython",
    "version": 3
   },
   "file_extension": ".py",
   "mimetype": "text/x-python",
   "name": "python",
   "nbconvert_exporter": "python",
   "pygments_lexer": "ipython3",
   "version": "3.7.12"
  }
 },
 "nbformat": 4,
 "nbformat_minor": 5
}
